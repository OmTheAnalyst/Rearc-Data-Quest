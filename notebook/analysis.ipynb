{
 "cells": [
  {
   "cell_type": "code",
   "execution_count": null,
   "id": "12c8ff1a",
   "metadata": {},
   "outputs": [],
   "source": [
    "import boto3\n",
    "import pandas as pd\n",
    "import io\n",
    "import json\n",
    "\n",
    "# Initialize S3 client\n",
    "s3 = boto3.client('s3')\n",
    "bucket_name = 'rearc-data-raw'\n",
    "\n",
    "# ----- Load time-series TSV -----\n",
    "ts_key = 'bls/pr.data.0.Current'\n",
    "ts_obj = s3.get_object(Bucket=bucket_name, Key=ts_key)\n",
    "ts_df = pd.read_csv(io.BytesIO(ts_obj['Body'].read()), delimiter=\"\\t\")\n",
    "ts_df.columns = ts_df.columns.str.strip()\n",
    "print(\"Time-Series Data Sample:\")\n",
    "print(ts_df.head())\n",
    "\n",
    "# ----- Load population JSON -----\n",
    "pop_key = 'population/population.json'\n",
    "pop_obj = s3.get_object(Bucket=bucket_name, Key=pop_key)\n",
    "pop_json = json.loads(pop_obj['Body'].read())\n",
    "pop_df = pd.json_normalize(pop_json['data'])\n",
    "\n",
    "print(\"\\nPopulation Data Sample:\")\n",
    "print(pop_df.head())\n",
    "\n"
   ]
  },
  {
   "cell_type": "code",
   "execution_count": null,
   "id": "83c2355d",
   "metadata": {},
   "outputs": [],
   "source": []
  }
 ],
 "metadata": {
  "kernelspec": {
   "display_name": "Python (rearc-env)",
   "language": "python",
   "name": "rearc-env"
  },
  "language_info": {
   "codemirror_mode": {
    "name": "ipython",
    "version": 3
   },
   "file_extension": ".py",
   "mimetype": "text/x-python",
   "name": "python",
   "nbconvert_exporter": "python",
   "pygments_lexer": "ipython3",
   "version": "3.10.16"
  }
 },
 "nbformat": 4,
 "nbformat_minor": 5
}
